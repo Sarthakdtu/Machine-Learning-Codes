{
 "cells": [
  {
   "cell_type": "code",
   "execution_count": 4,
   "metadata": {
    "scrolled": true
   },
   "outputs": [
    {
     "name": "stdout",
     "output_type": "stream",
     "text": [
      "3.0037593985\n",
      "4.71052631579\n",
      "Slope in pre= 3.0037593985\n",
      "[67.78947368421052, 70.793233082706777, 73.796992481203006, 25.736842105263161, 28.7406015037594, 31.744360902255639, 34.748120300751879]\n",
      "Slope in pre= 3.0037593985\n",
      "score in normal =  0.99983908773\n",
      "Slope in pre= 2.98598781549\n",
      "Slope in pre= 2.98598781549\n",
      "score in crossvalidation =  0.999715469521\n"
     ]
    }
   ],
   "source": [
    "import numpy as np\n",
    "import matplotlib.pyplot as plt\n",
    "import random\n",
    "slope=0\n",
    "intercept=0\n",
    "\n",
    "def fit(Xset,Yset):\n",
    "    X=np.array(Xset)\n",
    "    Y=np.array(Yset)\n",
    "    Xm=X.mean()\n",
    "    Ym=Y.mean()\n",
    "    XYm=(X*Y).mean()\n",
    "    X2m=(X*X).mean()\n",
    "    numerator=XYm-((Xm)*(Ym))\n",
    "    denominator=X2m-(Xm*Xm)\n",
    "    m=numerator/denominator\n",
    "    c=Ym-m*Xm\n",
    "    return [m,c]\n",
    "\n",
    "def predict(X,slopeC=slope,interceptC=intercept):\n",
    "    Ypre=[]\n",
    "    print(\"Slope in pre=\",slopeC)\n",
    "    for i in range(0,len(X)):\n",
    "        predictedVal=(slopeC*X[i])+interceptC\n",
    "        Ypre.append(predictedVal)\n",
    "    return Ypre\n",
    "\n",
    "def score(Xtbp,Yact,slopeC,interceptC):\n",
    "    Ya=np.array(Yact)\n",
    "    Xp=np.array(Xtbp)\n",
    "    Yp=predict(Xp,slopeC,interceptC)\n",
    "    SYip=((Ya-Yp)**2).sum()\n",
    "    Ym=Ya.mean()\n",
    "    SYim=((Ya-Ym)**2).sum()\n",
    "    r2=1-(SYip/SYim)\n",
    "    return r2\n",
    "    \n",
    "def crossValidate(Xn,Yn,n):\n",
    "    xl=len(Xn)\n",
    "    count=(1-n)*xl\n",
    "    \n",
    "    limit=int(count)\n",
    "    Xret=[]\n",
    "    Yret=[]\n",
    "    l=[i for i in range(0,xl)]\n",
    "\n",
    "    l=random.sample(l,limit)\n",
    "    j=0\n",
    "    while(int(count)>0):\n",
    "        idx=int(l[j])\n",
    "        Xret.append(Xn[idx])\n",
    "        #tempX.remove(X[idx])\n",
    "        Yret.append(Yn[idx])\n",
    "        #tempY.remove(Y[idx])\n",
    "        count=count-1\n",
    "        j+=1\n",
    "    val2=fit(Xret,Yret)\n",
    "    slope2=val2[0]\n",
    "    intercept2=val2[1]\n",
    "    Xn=[i for i in X if i not in Xret]\n",
    "    Yn=[i for i in Y if i not in Yret]\n",
    "    Ypre2=predict(Xn,slope2,intercept2)\n",
    "    print(\"score in crossvalidation = \", score(Xn,Yn,slope2,intercept2))\n",
    "    \n",
    "        \n",
    "        \n",
    "    \n",
    "X=[1,2,3,4,5,6,7,8,9,10,11,12,13,14,15,16,17,18,19,20]\n",
    "Y=[7.5,11,13.5,17,19.5,23,25.5,29,31.5,35,37.5,41,43.5,47,49.5,53,55.5,59,61.5,65]\n",
    "\"\"\"\n",
    "plt.scatter(X,Y)\n",
    "plt.xlabel(\"X\")\n",
    "plt.ylabel(\"Y\")\n",
    "plt.show()\n",
    "\"\"\"\n",
    "val=fit(X,Y)\n",
    "slope,intercept=val[0],val[1]\n",
    "\n",
    "print(slope)\n",
    "print(intercept)\n",
    "\n",
    "Xtest=[21,22,23,7,8,9,10]\n",
    "\n",
    "Ypre=predict(Xtest,slope,intercept)\n",
    "\n",
    "Yac=[67.5,71,73.5,25.5,29,31.5,35]\n",
    "\n",
    "print(Ypre)\n",
    "print(\"score in normal = \",score(Xtest,Yac,slope,intercept))\n",
    "\n",
    "crossValidate(X,Y,0.3)\n",
    "\n",
    "\n"
   ]
  },
  {
   "cell_type": "code",
   "execution_count": null,
   "metadata": {
    "collapsed": true
   },
   "outputs": [],
   "source": []
  },
  {
   "cell_type": "code",
   "execution_count": null,
   "metadata": {
    "collapsed": true
   },
   "outputs": [],
   "source": []
  },
  {
   "cell_type": "code",
   "execution_count": null,
   "metadata": {
    "collapsed": true
   },
   "outputs": [],
   "source": []
  },
  {
   "cell_type": "code",
   "execution_count": null,
   "metadata": {
    "collapsed": true
   },
   "outputs": [],
   "source": []
  },
  {
   "cell_type": "code",
   "execution_count": null,
   "metadata": {
    "collapsed": true
   },
   "outputs": [],
   "source": []
  }
 ],
 "metadata": {
  "kernelspec": {
   "display_name": "Python 3",
   "language": "python",
   "name": "python3"
  },
  "language_info": {
   "codemirror_mode": {
    "name": "ipython",
    "version": 3
   },
   "file_extension": ".py",
   "mimetype": "text/x-python",
   "name": "python",
   "nbconvert_exporter": "python",
   "pygments_lexer": "ipython3",
   "version": "3.6.3"
  }
 },
 "nbformat": 4,
 "nbformat_minor": 2
}
