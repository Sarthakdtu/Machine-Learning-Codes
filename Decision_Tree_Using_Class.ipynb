{
 "cells": [
  {
   "cell_type": "markdown",
   "metadata": {},
   "source": [
    "PREPARING DATASET\n"
   ]
  },
  {
   "cell_type": "code",
   "execution_count": 3,
   "metadata": {
    "collapsed": true
   },
   "outputs": [],
   "source": [
    "import numpy as np\n",
    "import pandas as pd\n",
    "import random as rnd\n",
    "import math"
   ]
  },
  {
   "cell_type": "code",
   "execution_count": 117,
   "metadata": {},
   "outputs": [
    {
     "data": {
      "text/plain": [
       "array([0, 1, 1, 1, 1, 0, 1, 1, 1, 1, 0, 1, 1, 1, 1, 0, 1, 1, 1, 1, 0, 1, 1,\n",
       "       1, 1, 0, 1, 1, 1, 1])"
      ]
     },
     "execution_count": 117,
     "metadata": {},
     "output_type": "execute_result"
    }
   ],
   "source": [
    "GoodClg=[1 if x%5!=0 else 0 for x in range(30) ]\n",
    "GoodClg=np.array(GoodClg)\n",
    "GoodClg"
   ]
  },
  {
   "cell_type": "code",
   "execution_count": 118,
   "metadata": {},
   "outputs": [
    {
     "data": {
      "text/plain": [
       "array([1, 3, 1, 1, 3, 3, 3, 1, 1, 2, 3, 1, 3, 2, 2, 1, 2, 1, 1, 2, 1, 1, 3,\n",
       "       3, 2, 2, 1, 2, 3, 3])"
      ]
     },
     "execution_count": 118,
     "metadata": {},
     "output_type": "execute_result"
    }
   ],
   "source": [
    "Number_Intern=[rnd.randint(1,3) for i in range(30)]\n",
    "Number_Intern=np.array(Number_Intern)\n",
    "print(Number_Intern)\n",
    "#[1, 3, 1, 1, 3, 3, 3, 1, 1, 2, 3, 1, 3, 2, 2, 1, 2, 1, 1, 2, 1, 1, 3,\n",
    "      # 3, 2, 2, 1, 2, 3, 3]\n"
   ]
  },
  {
   "cell_type": "code",
   "execution_count": 119,
   "metadata": {},
   "outputs": [
    {
     "data": {
      "text/plain": [
       "array([0, 1, 0, 0, 1, 0, 1, 0, 0, 0, 0, 1, 1, 0, 1, 0, 0, 0, 0, 0, 0, 0, 1,\n",
       "       1, 0, 1, 0, 0, 0, 1])"
      ]
     },
     "execution_count": 119,
     "metadata": {},
     "output_type": "execute_result"
    }
   ],
   "source": [
    "GoodPrj=[]\n",
    "for x in range(30):\n",
    "    if GoodClg[x]==1:\n",
    "        if Number_Intern[x]>2:\n",
    "            GoodPrj.append(1)\n",
    "        else:\n",
    "            GoodPrj.append(0)\n",
    "    else:\n",
    "        if Number_Intern[x]==1:\n",
    "            GoodPrj.append(0)\n",
    "        else:\n",
    "            GoodPrj.append(1)\n",
    "            \n",
    "GoodPrj=np.array(GoodPrj)        \n",
    "for i in range(5):\n",
    "    x=rnd.randint(0,29)\n",
    "    if GoodPrj[x]==1:\n",
    "        GoodPrj[x]=0\n",
    "    else:\n",
    "        GoodPrj[x]=1\n",
    "        \n",
    "GoodPrj        \n",
    "   #array([0, 1, 0, 0, 1, 0, 1, 0, 0, 0, 0, 1, 1, 0, 1, 0, 0, 0, 0, 0, 0, 0, 1,\n",
    "    #   1, 0, 1, 0, 0, 0, 1])     "
   ]
  },
  {
   "cell_type": "code",
   "execution_count": 120,
   "metadata": {},
   "outputs": [
    {
     "data": {
      "text/plain": [
       "array([1, 1, 3, 1, 2, 2, 3, 2, 1, 1, 2, 3, 1, 3, 1, 3, 1, 2, 2, 3, 2, 1, 3,\n",
       "       1, 3, 2, 2, 3, 2, 1])"
      ]
     },
     "execution_count": 120,
     "metadata": {},
     "output_type": "execute_result"
    }
   ],
   "source": [
    "Num_Prj=[rnd.randint(1,3) for i in range(30)]\n",
    "for i in range(30):\n",
    "    if GoodPrj[i]==1 and Num_Prj[x]<3:\n",
    "        Num_Prj[i]+=1\n",
    "Num_Prj=np.array(Num_Prj)      \n",
    "#array([1, 1, 3, 1, 2, 2, 3, 2, 1, 1, 2, 3, 1, 3, 1, 3, 1, 2, 2, 3, 2, 1, 3,\n",
    "     #  1, 3, 2, 2, 3, 2, 1])\n",
    "Num_Prj    "
   ]
  },
  {
   "cell_type": "code",
   "execution_count": 121,
   "metadata": {},
   "outputs": [
    {
     "data": {
      "text/plain": [
       "array(['a1', 'b1', 'c1', 'd1', 'e1', 'f1', 'g1', 'h1', 'i1', 'j1', 'k1',\n",
       "       'l1', 'm1', 'n1', 'o1', 'p1', 'q1', 'r1', 's1', 't1', 'u1', 'v1',\n",
       "       'w1', 'x1', 'y1', 'z1', 'a2', 'b2', 'c2', 'd2'],\n",
       "      dtype='<U2')"
      ]
     },
     "execution_count": 121,
     "metadata": {},
     "output_type": "execute_result"
    }
   ],
   "source": [
    "Name=['a1', 'b1', 'c1', 'd1', 'e1', 'f1', 'g1', 'h1', 'i1', 'j1', 'k1', 'l1', 'm1', 'n1', 'o1', 'p1', 'q1', 'r1', 's1', 't1', 'u1', 'v1', 'w1', 'x1', 'y1', 'z1','a2','b2','c2','d2']\n",
    "Name=np.array(Name)\n",
    "Name"
   ]
  },
  {
   "cell_type": "code",
   "execution_count": 125,
   "metadata": {},
   "outputs": [
    {
     "data": {
      "text/plain": [
       "30"
      ]
     },
     "execution_count": 125,
     "metadata": {},
     "output_type": "execute_result"
    }
   ],
   "source": [
    "Selected=[0,1,0,0,1,1,1,0,0,1,1,1,0,1,0,1,0,0,1,1,0,0,1,1,0,1,0,0,1,1]    \n",
    "len(Selected)"
   ]
  },
  {
   "cell_type": "code",
   "execution_count": 2,
   "metadata": {
    "collapsed": true
   },
   "outputs": [],
   "source": [
    "class Student():\n",
    "    def __init__(self):\n",
    "        self.GC=0\n",
    "        self.NI=0\n",
    "        self.NP=0\n",
    "        self.N=''\n",
    "        self.GP=0\n",
    "        self.Sno=0\n",
    "        self.Slt=0\n",
    "        \n",
    "    def insert(self,gc,ni,np,n,gp,i,s):\n",
    "        self.GC=gc\n",
    "        self.NP=np\n",
    "        self.NI=ni\n",
    "        if i%5==0 and i%3==0:\n",
    "            self.NI=ni+1\n",
    "        if i%5==0 and i%2==0:\n",
    "            self.NP=np+1\n",
    "        self.N=n\n",
    "        self.GP=gp\n",
    "        self.Sno=i\n",
    "        self.Slt=s\n",
    "    def display(self):\n",
    "        print('%02d' % self.Sno,end=\" \") \n",
    "        print('   ',self.N,'   ',self.GC,'         ',self.NI,'     ',self.NP,'      ',self.GP,'        ',self.Slt)\n",
    "    def GC(self):\n",
    "        return int(GC.size)\n",
    "    def NI(self):\n",
    "        return int(NI.size)\n",
    "    def NP(self):\n",
    "        return int(NP.size)\n",
    "    def GP(self):\n",
    "        return int(GP.size)"
   ]
  },
  {
   "cell_type": "code",
   "execution_count": 130,
   "metadata": {},
   "outputs": [
    {
     "name": "stdout",
     "output_type": "stream",
     "text": [
      "SNO  Name  Good_Clg  Num_Intern  Num_Prj  Good_Prj  Selected \n",
      "01     a1     0           1       1        0          0\n",
      "02     b1     1           3       1        1          1\n",
      "03     c1     1           1       3        0          0\n",
      "04     d1     1           1       1        0          0\n",
      "05     e1     1           3       2        1          1\n",
      "06     f1     0           3       2        0          1\n",
      "07     g1     1           3       3        1          1\n",
      "08     h1     1           1       2        0          0\n",
      "09     i1     1           1       1        0          0\n",
      "10     j1     1           2       2        0          1\n",
      "11     k1     0           3       2        0          1\n",
      "12     l1     1           1       3        1          1\n",
      "13     m1     1           3       1        1          0\n",
      "14     n1     1           2       3        0          1\n",
      "15     o1     1           3       1        1          0\n",
      "16     p1     0           1       3        0          1\n",
      "17     q1     1           2       1        0          0\n",
      "18     r1     1           1       2        0          0\n",
      "19     s1     1           1       2        0          1\n",
      "20     t1     1           2       4        0          1\n",
      "21     u1     0           1       2        0          0\n",
      "22     v1     1           1       1        0          0\n",
      "23     w1     1           3       3        1          1\n",
      "24     x1     1           3       1        1          1\n",
      "25     y1     1           2       3        0          0\n",
      "26     z1     0           2       2        1          1\n",
      "27     a2     1           1       2        0          0\n",
      "28     b2     1           2       3        0          0\n",
      "29     c2     1           3       2        0          1\n",
      "30     d2     1           4       2        1          1\n"
     ]
    }
   ],
   "source": [
    "df=[Student() for i in range(30)]\n",
    "for x in range(30):\n",
    "    df[x].insert(GoodClg[x],Number_Intern[x],Num_Prj[x],Name[x],GoodPrj[x],x+1,Selected[x])\n",
    "\n",
    "print(\"SNO \",\"Name \",\"Good_Clg \",\"Num_Intern \",\"Num_Prj \",\"Good_Prj \",\"Selected \")    \n",
    "for x in range(30):\n",
    "    h=df[x]\n",
    "    h.display()    \n",
    "OLDgc=GoodClg.copy()    \n",
    "OLDgp=GoodPrj.copy()    \n",
    "OLDni=Number_Intern.copy()   \n",
    "OLDnp=Num_Prj.copy()    \n",
    "   "
   ]
  },
  {
   "cell_type": "markdown",
   "metadata": {},
   "source": [
    "END OF DATASET\n",
    "________________________________________________________________________________________________________________________________\n",
    "\n",
    "\n",
    "DECISION TREE CODE"
   ]
  },
  {
   "cell_type": "code",
   "execution_count": null,
   "metadata": {
    "collapsed": true
   },
   "outputs": [],
   "source": []
  },
  {
   "cell_type": "code",
   "execution_count": 9,
   "metadata": {
    "collapsed": true
   },
   "outputs": [],
   "source": [
    "class Node:\n",
    "    def __init__(self):\n",
    "        self.Ycount=0\n",
    "        self.Ncount=0\n",
    "        self.nextFtr=None\n",
    "        self.preFtr=None\n",
    "        self.major=None\n",
    "        self.isPure=False\n",
    "        self.entropy=None\n",
    "        self.data=None\n",
    "        \n",
    "    def initialize(self,yc,nc,pf):\n",
    "        self.Ycount=yc\n",
    "        self.Ncount=nc\n",
    "        self.preFtr=pf\n",
    "        self.major=(yc if yc>nc else nc)\n",
    "        self.isPure=self.checkIsPure()\n",
    "        self.entropy=self.calcEntropy()\n",
    "    \n",
    "    def checkIsPure(self):\n",
    "        if self.Ycount!=self.Ncount and self.Ncount==0 :\n",
    "            return True\n",
    "        elif self.Ycount!=self.Ncount and self.Ycount==0 :\n",
    "            return True\n",
    "        else:\n",
    "            return False\n",
    "        \n",
    "    def calcEntropy(self):\n",
    "        pa=self.Ycount/(self.Ycount+self.Ncount)\n",
    "        pb=self.Ncount/(self.Ycount+self.Ncount)\n",
    "        logPa=math.log(pa,2)\n",
    "        logPb=math.log(pb,2)\n",
    "        paLogPa=-(pa*logPa)\n",
    "        pbLogPb=-(pb*logPb)\n",
    "        ey=paLogPa+pbLogPb\n",
    "        return ey\n"
   ]
  },
  {
   "cell_type": "code",
   "execution_count": 8,
   "metadata": {
    "collapsed": true
   },
   "outputs": [],
   "source": [
    "class FtrNode:\n",
    "    def __init__(self):\n",
    "        self.FtrName=None\n",
    "        self.limit=None\n",
    "        self.yes=None\n",
    "        self.no=None\n",
    "        self.prnt=None\n",
    "    def initialize(self,nm,lmt):\n",
    "        self.FtrName=nm\n",
    "        self.limit=lmt\n",
    "    def split(self,prnt,yes,no):\n",
    "        self.prnt=prnt\n",
    "        self.yes=yes\n",
    "        self.no=no\n",
    "    def statsReturner(self,node):\n",
    "        yy=0\n",
    "        yn=0\n",
    "        nn=0\n",
    "        for i in range(int(node.data.size)):\n",
    "            if node.data[i].getattr(Student,self.FtrName)<self.limit  :\n",
    "                if node.data[i].Slt==1:\n",
    "                    ny+=1\n",
    "                else :\n",
    "                    nn+=1\n",
    "            else :\n",
    "                if node.data[i].Slt==0:\n",
    "                    yy+=1\n",
    "                else :\n",
    "                    yn+=1\n",
    "                \n",
    "        return [yy,yn,ny,nn]      \n",
    "    \n",
    "            "
   ]
  },
  {
   "cell_type": "code",
   "execution_count": null,
   "metadata": {
    "collapsed": true
   },
   "outputs": [],
   "source": [
    "FtrList=[]\n",
    "\n",
    "FtrD={}"
   ]
  },
  {
   "cell_type": "code",
   "execution_count": 7,
   "metadata": {
    "collapsed": true
   },
   "outputs": [],
   "source": [
    "def calcPseudoEpy(Y,N):\n",
    "        pa=Y/(Y+N)\n",
    "        pb=N/(Y+N)\n",
    "        logPa=math.log(pa,2)\n",
    "        logPb=math.log(pb,2)\n",
    "        paLogPa=-(pa*logPa)\n",
    "        pbLogPb=-(pb*logPb)\n",
    "        ey=paLogPa+pbLogPb\n",
    "        return ey\n",
    "def infoGain(yy,yn,ny,nn,Eo):\n",
    "    sumAll=yy+yn+ny+nn\n",
    "    e1=calcPseudoEpy(yy,yn)\n",
    "    e2=calcPseudoEpy(ny,nn)\n",
    "    e1=((yy+yn)/sumAll)*e1\n",
    "    e2=((nn+ny)/sumAll)*e2\n",
    "    En=e1+e2\n",
    "    ig=Eo-En\n",
    "    return ig"
   ]
  },
  {
   "cell_type": "code",
   "execution_count": 6,
   "metadata": {
    "collapsed": true
   },
   "outputs": [],
   "source": [
    "def splitter(node,idx):\n",
    "    if node.isPure :\n",
    "        return None\n",
    "    elif idx==len(FtrD):\n",
    "        ret=max(FtrD,key=int)\n",
    "        return FtrD[ret]             \n",
    "    else:\n",
    "        curF=FtrList[idx]\n",
    "        l=curF.statsReturner(node)\n",
    "        yy,yn,ny,nn=l[0],l[1],l[2],l[3]\n",
    "        IG=infoGain(yy,yn,ny,nn,node.entropy)\n",
    "        FtrD[IG]=curF.FtrName\n",
    "        return splitter(node,idx+1)\n",
    "        \n",
    "def treeMaker(): \n",
    "    ftr=splitter(root,0)\n",
    "    for i in range(len(FtrList)):\n",
    "        if FtrList[i].FtrName==ftr:\n",
    "            feature=FtrList[i]\n",
    "            FtrList.remove(FtrList[i])\n",
    "        if feature!=None:\n",
    "            node=Node\n",
    "            node.initialize()\n",
    "            \n",
    "            \n",
    "    \n",
    "        \n",
    "        \n",
    "        \n",
    "    "
   ]
  },
  {
   "cell_type": "code",
   "execution_count": null,
   "metadata": {
    "collapsed": true
   },
   "outputs": [],
   "source": []
  },
  {
   "cell_type": "code",
   "execution_count": null,
   "metadata": {
    "collapsed": true
   },
   "outputs": [],
   "source": []
  }
 ],
 "metadata": {
  "kernelspec": {
   "display_name": "Python 3",
   "language": "python",
   "name": "python3"
  },
  "language_info": {
   "codemirror_mode": {
    "name": "ipython",
    "version": 3
   },
   "file_extension": ".py",
   "mimetype": "text/x-python",
   "name": "python",
   "nbconvert_exporter": "python",
   "pygments_lexer": "ipython3",
   "version": "3.6.3"
  }
 },
 "nbformat": 4,
 "nbformat_minor": 2
}
